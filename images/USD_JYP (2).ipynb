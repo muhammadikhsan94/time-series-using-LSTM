{
  "nbformat": 4,
  "nbformat_minor": 0,
  "metadata": {
    "colab": {
      "name": "USD_JYP.ipynb",
      "provenance": [],
      "collapsed_sections": [],
      "toc_visible": true
    },
    "kernelspec": {
      "name": "python3",
      "display_name": "Python 3"
    },
    "accelerator": "GPU"
  },
  "cells": [
    {
      "cell_type": "markdown",
      "metadata": {
        "id": "i9ieVx-ptgax",
        "colab_type": "text"
      },
      "source": [
        "# Import Dataset From Kaggle"
      ]
    },
    {
      "cell_type": "markdown",
      "metadata": {
        "id": "juwTsR04tRy8",
        "colab_type": "text"
      },
      "source": [
        "###Import Kaggle JSON"
      ]
    },
    {
      "cell_type": "code",
      "metadata": {
        "id": "t5x8e5HKy7X8",
        "colab_type": "code",
        "colab": {
          "resources": {
            "http://localhost:8080/nbextensions/google.colab/files.js": {
              "data": "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",
              "ok": true,
              "headers": [
                [
                  "content-type",
                  "application/javascript"
                ]
              ],
              "status": 200,
              "status_text": ""
            }
          },
          "base_uri": "https://localhost:8080/",
          "height": 89
        },
        "outputId": "03878674-a8d5-4b21-a257-903a46cbe74c"
      },
      "source": [
        "!pip install -q kaggle\n",
        "\n",
        "from google.colab import files\n",
        "files.upload()\n",
        "\n",
        "!mkdir ~/.kaggle\n",
        "!cp kaggle.json ~/.kaggle/\n",
        "!chmod 600 ~/.kaggle/kaggle.json"
      ],
      "execution_count": 24,
      "outputs": [
        {
          "output_type": "display_data",
          "data": {
            "text/html": [
              "\n",
              "     <input type=\"file\" id=\"files-72add61b-5b13-4cb1-8ece-3be07dd2cb82\" name=\"files[]\" multiple disabled\n",
              "        style=\"border:none\" />\n",
              "     <output id=\"result-72add61b-5b13-4cb1-8ece-3be07dd2cb82\">\n",
              "      Upload widget is only available when the cell has been executed in the\n",
              "      current browser session. Please rerun this cell to enable.\n",
              "      </output>\n",
              "      <script src=\"/nbextensions/google.colab/files.js\"></script> "
            ],
            "text/plain": [
              "<IPython.core.display.HTML object>"
            ]
          },
          "metadata": {
            "tags": []
          }
        },
        {
          "output_type": "stream",
          "text": [
            "Saving kaggle.json to kaggle (1).json\n",
            "mkdir: cannot create directory ‘/root/.kaggle’: File exists\n"
          ],
          "name": "stdout"
        }
      ]
    },
    {
      "cell_type": "markdown",
      "metadata": {
        "id": "XfEGntq-tWqQ",
        "colab_type": "text"
      },
      "source": [
        "###Import Dataset and Unzip"
      ]
    },
    {
      "cell_type": "code",
      "metadata": {
        "id": "B2363MlErhzw",
        "colab_type": "code",
        "colab": {
          "base_uri": "https://localhost:8080/",
          "height": 105
        },
        "outputId": "c8e3d2d7-dfcd-43aa-f50d-f36ec5e0d47d"
      },
      "source": [
        "!kaggle datasets download -d cfchan/daily-usdjpy-20002019-with-technical-indicators\n",
        "!unzip \"/content/daily-usdjpy-20002019-with-technical-indicators.zip\""
      ],
      "execution_count": 25,
      "outputs": [
        {
          "output_type": "stream",
          "text": [
            "daily-usdjpy-20002019-with-technical-indicators.zip: Skipping, found more recently modified local copy (use --force to force download)\n",
            "Archive:  /content/daily-usdjpy-20002019-with-technical-indicators.zip\n",
            "replace Column_Description.csv? [y]es, [n]o, [A]ll, [N]one, [r]ename: no\n",
            "replace USDJPY_Daily.csv? [y]es, [n]o, [A]ll, [N]one, [r]ename: no\n"
          ],
          "name": "stdout"
        }
      ]
    },
    {
      "cell_type": "markdown",
      "metadata": {
        "id": "M8TLd5hcaezQ",
        "colab_type": "text"
      },
      "source": [
        "#Import Library"
      ]
    },
    {
      "cell_type": "code",
      "metadata": {
        "id": "cSQ2KJmJzaaU",
        "colab_type": "code",
        "colab": {}
      },
      "source": [
        "import numpy as np\n",
        "import pandas as pd\n",
        "from keras.layers import Dense, LSTM\n",
        "import matplotlib.pyplot as plt\n",
        "import tensorflow as tf"
      ],
      "execution_count": 26,
      "outputs": []
    },
    {
      "cell_type": "markdown",
      "metadata": {
        "id": "lEQ8TnPjaiXB",
        "colab_type": "text"
      },
      "source": [
        "#Membaca Data"
      ]
    },
    {
      "cell_type": "code",
      "metadata": {
        "id": "IBbCJIWhzeAq",
        "colab_type": "code",
        "colab": {
          "base_uri": "https://localhost:8080/",
          "height": 309
        },
        "outputId": "d25a51bb-b92c-45ea-a3de-238172652bd6"
      },
      "source": [
        "df = pd.read_csv('/content/USDJPY_Daily.csv')\n",
        "df.head()"
      ],
      "execution_count": 27,
      "outputs": [
        {
          "output_type": "execute_result",
          "data": {
            "text/html": [
              "<div>\n",
              "<style scoped>\n",
              "    .dataframe tbody tr th:only-of-type {\n",
              "        vertical-align: middle;\n",
              "    }\n",
              "\n",
              "    .dataframe tbody tr th {\n",
              "        vertical-align: top;\n",
              "    }\n",
              "\n",
              "    .dataframe thead th {\n",
              "        text-align: right;\n",
              "    }\n",
              "</style>\n",
              "<table border=\"1\" class=\"dataframe\">\n",
              "  <thead>\n",
              "    <tr style=\"text-align: right;\">\n",
              "      <th></th>\n",
              "      <th>date</th>\n",
              "      <th>open</th>\n",
              "      <th>high</th>\n",
              "      <th>low</th>\n",
              "      <th>close</th>\n",
              "      <th>open1</th>\n",
              "      <th>high1</th>\n",
              "      <th>low1</th>\n",
              "      <th>close1</th>\n",
              "      <th>open2</th>\n",
              "      <th>high2</th>\n",
              "      <th>low2</th>\n",
              "      <th>close2</th>\n",
              "      <th>open3</th>\n",
              "      <th>high3</th>\n",
              "      <th>low3</th>\n",
              "      <th>close3</th>\n",
              "      <th>open4</th>\n",
              "      <th>high4</th>\n",
              "      <th>low4</th>\n",
              "      <th>close4</th>\n",
              "      <th>open5</th>\n",
              "      <th>high5</th>\n",
              "      <th>low5</th>\n",
              "      <th>close5</th>\n",
              "      <th>macd0</th>\n",
              "      <th>signal0</th>\n",
              "      <th>diff0</th>\n",
              "      <th>macd1</th>\n",
              "      <th>signal1</th>\n",
              "      <th>diff1</th>\n",
              "      <th>macd2</th>\n",
              "      <th>signal2</th>\n",
              "      <th>diff2</th>\n",
              "      <th>macd3</th>\n",
              "      <th>signal3</th>\n",
              "      <th>diff3</th>\n",
              "      <th>macd4</th>\n",
              "      <th>signal4</th>\n",
              "      <th>diff4</th>\n",
              "      <th>macd5</th>\n",
              "      <th>signal5</th>\n",
              "      <th>diff5</th>\n",
              "      <th>rsi0</th>\n",
              "      <th>rsi1</th>\n",
              "      <th>rsi2</th>\n",
              "      <th>rsi3</th>\n",
              "      <th>rsi4</th>\n",
              "      <th>rsi5</th>\n",
              "      <th>dn0</th>\n",
              "      <th>mavg0</th>\n",
              "      <th>up0</th>\n",
              "      <th>pctB0</th>\n",
              "      <th>dn1</th>\n",
              "      <th>mavg1</th>\n",
              "      <th>up1</th>\n",
              "      <th>pctB1</th>\n",
              "      <th>dn2</th>\n",
              "      <th>mavg2</th>\n",
              "      <th>up2</th>\n",
              "      <th>pctB2</th>\n",
              "      <th>dn3</th>\n",
              "      <th>mavg3</th>\n",
              "      <th>up3</th>\n",
              "      <th>pctB3</th>\n",
              "      <th>dn4</th>\n",
              "      <th>mavg4</th>\n",
              "      <th>up4</th>\n",
              "      <th>pctB4</th>\n",
              "      <th>dn5</th>\n",
              "      <th>mavg5</th>\n",
              "      <th>up5</th>\n",
              "      <th>pctB5</th>\n",
              "      <th>target1</th>\n",
              "      <th>target2</th>\n",
              "    </tr>\n",
              "  </thead>\n",
              "  <tbody>\n",
              "    <tr>\n",
              "      <th>0</th>\n",
              "      <td>2000-07-13</td>\n",
              "      <td>108.23</td>\n",
              "      <td>108.56</td>\n",
              "      <td>107.00</td>\n",
              "      <td>108.35</td>\n",
              "      <td>107.20</td>\n",
              "      <td>108.51</td>\n",
              "      <td>107.14</td>\n",
              "      <td>108.24</td>\n",
              "      <td>107.07</td>\n",
              "      <td>107.43</td>\n",
              "      <td>106.65</td>\n",
              "      <td>107.19</td>\n",
              "      <td>107.40</td>\n",
              "      <td>107.44</td>\n",
              "      <td>106.69</td>\n",
              "      <td>107.06</td>\n",
              "      <td>107.90</td>\n",
              "      <td>107.92</td>\n",
              "      <td>107.39</td>\n",
              "      <td>107.41</td>\n",
              "      <td>107.66</td>\n",
              "      <td>107.98</td>\n",
              "      <td>107.30</td>\n",
              "      <td>107.94</td>\n",
              "      <td>0.772167</td>\n",
              "      <td>0.133339</td>\n",
              "      <td>0.638828</td>\n",
              "      <td>0.608825</td>\n",
              "      <td>-0.022304</td>\n",
              "      <td>0.631129</td>\n",
              "      <td>0.401757</td>\n",
              "      <td>-0.171717</td>\n",
              "      <td>0.573474</td>\n",
              "      <td>0.281041</td>\n",
              "      <td>-0.305271</td>\n",
              "      <td>0.586312</td>\n",
              "      <td>0.170916</td>\n",
              "      <td>-0.429937</td>\n",
              "      <td>0.600853</td>\n",
              "      <td>-0.007369</td>\n",
              "      <td>-0.537188</td>\n",
              "      <td>0.529820</td>\n",
              "      <td>72.508039</td>\n",
              "      <td>70.512821</td>\n",
              "      <td>70.747218</td>\n",
              "      <td>67.711599</td>\n",
              "      <td>71.875000</td>\n",
              "      <td>71.993410</td>\n",
              "      <td>103.967806</td>\n",
              "      <td>106.3275</td>\n",
              "      <td>108.687194</td>\n",
              "      <td>0.928551</td>\n",
              "      <td>103.991662</td>\n",
              "      <td>106.1845</td>\n",
              "      <td>108.377338</td>\n",
              "      <td>0.968685</td>\n",
              "      <td>104.076844</td>\n",
              "      <td>106.0610</td>\n",
              "      <td>108.045156</td>\n",
              "      <td>0.784504</td>\n",
              "      <td>104.095601</td>\n",
              "      <td>106.0140</td>\n",
              "      <td>107.932399</td>\n",
              "      <td>0.772623</td>\n",
              "      <td>104.113807</td>\n",
              "      <td>105.9830</td>\n",
              "      <td>107.852193</td>\n",
              "      <td>0.881715</td>\n",
              "      <td>104.167185</td>\n",
              "      <td>105.9395</td>\n",
              "      <td>107.711815</td>\n",
              "      <td>1.064375</td>\n",
              "      <td>12.0</td>\n",
              "      <td>Green</td>\n",
              "    </tr>\n",
              "    <tr>\n",
              "      <th>1</th>\n",
              "      <td>2000-07-14</td>\n",
              "      <td>108.36</td>\n",
              "      <td>108.48</td>\n",
              "      <td>107.59</td>\n",
              "      <td>107.87</td>\n",
              "      <td>108.23</td>\n",
              "      <td>108.56</td>\n",
              "      <td>107.00</td>\n",
              "      <td>108.35</td>\n",
              "      <td>107.20</td>\n",
              "      <td>108.51</td>\n",
              "      <td>107.14</td>\n",
              "      <td>108.24</td>\n",
              "      <td>107.07</td>\n",
              "      <td>107.43</td>\n",
              "      <td>106.65</td>\n",
              "      <td>107.19</td>\n",
              "      <td>107.40</td>\n",
              "      <td>107.44</td>\n",
              "      <td>106.69</td>\n",
              "      <td>107.06</td>\n",
              "      <td>107.90</td>\n",
              "      <td>107.92</td>\n",
              "      <td>107.39</td>\n",
              "      <td>107.41</td>\n",
              "      <td>0.870432</td>\n",
              "      <td>0.286105</td>\n",
              "      <td>0.584327</td>\n",
              "      <td>0.772167</td>\n",
              "      <td>0.133339</td>\n",
              "      <td>0.638828</td>\n",
              "      <td>0.608825</td>\n",
              "      <td>-0.022304</td>\n",
              "      <td>0.631129</td>\n",
              "      <td>0.401757</td>\n",
              "      <td>-0.171717</td>\n",
              "      <td>0.573474</td>\n",
              "      <td>0.281041</td>\n",
              "      <td>-0.305271</td>\n",
              "      <td>0.586312</td>\n",
              "      <td>0.170916</td>\n",
              "      <td>-0.429937</td>\n",
              "      <td>0.600853</td>\n",
              "      <td>73.692810</td>\n",
              "      <td>72.508039</td>\n",
              "      <td>70.512821</td>\n",
              "      <td>70.747218</td>\n",
              "      <td>67.711599</td>\n",
              "      <td>71.875000</td>\n",
              "      <td>104.059010</td>\n",
              "      <td>106.4575</td>\n",
              "      <td>108.855990</td>\n",
              "      <td>0.794456</td>\n",
              "      <td>103.967806</td>\n",
              "      <td>106.3275</td>\n",
              "      <td>108.687194</td>\n",
              "      <td>0.928551</td>\n",
              "      <td>103.991662</td>\n",
              "      <td>106.1845</td>\n",
              "      <td>108.377338</td>\n",
              "      <td>0.968685</td>\n",
              "      <td>104.076844</td>\n",
              "      <td>106.0610</td>\n",
              "      <td>108.045156</td>\n",
              "      <td>0.784504</td>\n",
              "      <td>104.095601</td>\n",
              "      <td>106.0140</td>\n",
              "      <td>107.932399</td>\n",
              "      <td>0.772623</td>\n",
              "      <td>104.113807</td>\n",
              "      <td>105.9830</td>\n",
              "      <td>107.852193</td>\n",
              "      <td>0.881715</td>\n",
              "      <td>-49.0</td>\n",
              "      <td>Red</td>\n",
              "    </tr>\n",
              "    <tr>\n",
              "      <th>2</th>\n",
              "      <td>2000-07-16</td>\n",
              "      <td>107.52</td>\n",
              "      <td>108.28</td>\n",
              "      <td>107.49</td>\n",
              "      <td>108.14</td>\n",
              "      <td>108.36</td>\n",
              "      <td>108.48</td>\n",
              "      <td>107.59</td>\n",
              "      <td>107.87</td>\n",
              "      <td>108.23</td>\n",
              "      <td>108.56</td>\n",
              "      <td>107.00</td>\n",
              "      <td>108.35</td>\n",
              "      <td>107.20</td>\n",
              "      <td>108.51</td>\n",
              "      <td>107.14</td>\n",
              "      <td>108.24</td>\n",
              "      <td>107.07</td>\n",
              "      <td>107.43</td>\n",
              "      <td>106.65</td>\n",
              "      <td>107.19</td>\n",
              "      <td>107.40</td>\n",
              "      <td>107.44</td>\n",
              "      <td>106.69</td>\n",
              "      <td>107.06</td>\n",
              "      <td>0.981260</td>\n",
              "      <td>0.433815</td>\n",
              "      <td>0.547445</td>\n",
              "      <td>0.870432</td>\n",
              "      <td>0.286105</td>\n",
              "      <td>0.584327</td>\n",
              "      <td>0.772167</td>\n",
              "      <td>0.133339</td>\n",
              "      <td>0.638828</td>\n",
              "      <td>0.608825</td>\n",
              "      <td>-0.022304</td>\n",
              "      <td>0.631129</td>\n",
              "      <td>0.401757</td>\n",
              "      <td>-0.171717</td>\n",
              "      <td>0.573474</td>\n",
              "      <td>0.281041</td>\n",
              "      <td>-0.305271</td>\n",
              "      <td>0.586312</td>\n",
              "      <td>72.193437</td>\n",
              "      <td>73.692810</td>\n",
              "      <td>72.508039</td>\n",
              "      <td>70.512821</td>\n",
              "      <td>70.747218</td>\n",
              "      <td>67.711599</td>\n",
              "      <td>104.256160</td>\n",
              "      <td>106.6270</td>\n",
              "      <td>108.997840</td>\n",
              "      <td>0.819085</td>\n",
              "      <td>104.059010</td>\n",
              "      <td>106.4575</td>\n",
              "      <td>108.855990</td>\n",
              "      <td>0.794456</td>\n",
              "      <td>103.967806</td>\n",
              "      <td>106.3275</td>\n",
              "      <td>108.687194</td>\n",
              "      <td>0.928551</td>\n",
              "      <td>103.991662</td>\n",
              "      <td>106.1845</td>\n",
              "      <td>108.377338</td>\n",
              "      <td>0.968685</td>\n",
              "      <td>104.076844</td>\n",
              "      <td>106.0610</td>\n",
              "      <td>108.045156</td>\n",
              "      <td>0.784504</td>\n",
              "      <td>104.095601</td>\n",
              "      <td>106.0140</td>\n",
              "      <td>107.932399</td>\n",
              "      <td>0.772623</td>\n",
              "      <td>62.0</td>\n",
              "      <td>Green</td>\n",
              "    </tr>\n",
              "    <tr>\n",
              "      <th>3</th>\n",
              "      <td>2000-07-17</td>\n",
              "      <td>108.15</td>\n",
              "      <td>108.83</td>\n",
              "      <td>107.81</td>\n",
              "      <td>108.06</td>\n",
              "      <td>107.52</td>\n",
              "      <td>108.28</td>\n",
              "      <td>107.49</td>\n",
              "      <td>108.14</td>\n",
              "      <td>108.36</td>\n",
              "      <td>108.48</td>\n",
              "      <td>107.59</td>\n",
              "      <td>107.87</td>\n",
              "      <td>108.23</td>\n",
              "      <td>108.56</td>\n",
              "      <td>107.00</td>\n",
              "      <td>108.35</td>\n",
              "      <td>107.20</td>\n",
              "      <td>108.51</td>\n",
              "      <td>107.14</td>\n",
              "      <td>108.24</td>\n",
              "      <td>107.07</td>\n",
              "      <td>107.43</td>\n",
              "      <td>106.65</td>\n",
              "      <td>107.19</td>\n",
              "      <td>1.058356</td>\n",
              "      <td>0.570821</td>\n",
              "      <td>0.487535</td>\n",
              "      <td>0.981260</td>\n",
              "      <td>0.433815</td>\n",
              "      <td>0.547445</td>\n",
              "      <td>0.870432</td>\n",
              "      <td>0.286105</td>\n",
              "      <td>0.584327</td>\n",
              "      <td>0.772167</td>\n",
              "      <td>0.133339</td>\n",
              "      <td>0.638828</td>\n",
              "      <td>0.608825</td>\n",
              "      <td>-0.022304</td>\n",
              "      <td>0.631129</td>\n",
              "      <td>0.401757</td>\n",
              "      <td>-0.171717</td>\n",
              "      <td>0.573474</td>\n",
              "      <td>68.761553</td>\n",
              "      <td>72.193437</td>\n",
              "      <td>73.692810</td>\n",
              "      <td>72.508039</td>\n",
              "      <td>70.512821</td>\n",
              "      <td>70.747218</td>\n",
              "      <td>104.497028</td>\n",
              "      <td>106.7900</td>\n",
              "      <td>109.082972</td>\n",
              "      <td>0.776933</td>\n",
              "      <td>104.256160</td>\n",
              "      <td>106.6270</td>\n",
              "      <td>108.997840</td>\n",
              "      <td>0.819085</td>\n",
              "      <td>104.059010</td>\n",
              "      <td>106.4575</td>\n",
              "      <td>108.855990</td>\n",
              "      <td>0.794456</td>\n",
              "      <td>103.967806</td>\n",
              "      <td>106.3275</td>\n",
              "      <td>108.687194</td>\n",
              "      <td>0.928551</td>\n",
              "      <td>103.991662</td>\n",
              "      <td>106.1845</td>\n",
              "      <td>108.377338</td>\n",
              "      <td>0.968685</td>\n",
              "      <td>104.076844</td>\n",
              "      <td>106.0610</td>\n",
              "      <td>108.045156</td>\n",
              "      <td>0.784504</td>\n",
              "      <td>-9.0</td>\n",
              "      <td>Red</td>\n",
              "    </tr>\n",
              "    <tr>\n",
              "      <th>4</th>\n",
              "      <td>2000-07-18</td>\n",
              "      <td>108.06</td>\n",
              "      <td>108.47</td>\n",
              "      <td>107.65</td>\n",
              "      <td>108.20</td>\n",
              "      <td>108.15</td>\n",
              "      <td>108.83</td>\n",
              "      <td>107.81</td>\n",
              "      <td>108.06</td>\n",
              "      <td>107.52</td>\n",
              "      <td>108.28</td>\n",
              "      <td>107.49</td>\n",
              "      <td>108.14</td>\n",
              "      <td>108.36</td>\n",
              "      <td>108.48</td>\n",
              "      <td>107.59</td>\n",
              "      <td>107.87</td>\n",
              "      <td>108.23</td>\n",
              "      <td>108.56</td>\n",
              "      <td>107.00</td>\n",
              "      <td>108.35</td>\n",
              "      <td>107.20</td>\n",
              "      <td>108.51</td>\n",
              "      <td>107.14</td>\n",
              "      <td>108.24</td>\n",
              "      <td>1.149907</td>\n",
              "      <td>0.699407</td>\n",
              "      <td>0.450500</td>\n",
              "      <td>1.058356</td>\n",
              "      <td>0.570821</td>\n",
              "      <td>0.487535</td>\n",
              "      <td>0.981260</td>\n",
              "      <td>0.433815</td>\n",
              "      <td>0.547445</td>\n",
              "      <td>0.870432</td>\n",
              "      <td>0.286105</td>\n",
              "      <td>0.584327</td>\n",
              "      <td>0.772167</td>\n",
              "      <td>0.133339</td>\n",
              "      <td>0.638828</td>\n",
              "      <td>0.608825</td>\n",
              "      <td>-0.022304</td>\n",
              "      <td>0.631129</td>\n",
              "      <td>70.181818</td>\n",
              "      <td>68.761553</td>\n",
              "      <td>72.193437</td>\n",
              "      <td>73.692810</td>\n",
              "      <td>72.508039</td>\n",
              "      <td>70.512821</td>\n",
              "      <td>104.838519</td>\n",
              "      <td>106.9710</td>\n",
              "      <td>109.103481</td>\n",
              "      <td>0.788162</td>\n",
              "      <td>104.497028</td>\n",
              "      <td>106.7900</td>\n",
              "      <td>109.082972</td>\n",
              "      <td>0.776933</td>\n",
              "      <td>104.256160</td>\n",
              "      <td>106.6270</td>\n",
              "      <td>108.997840</td>\n",
              "      <td>0.819085</td>\n",
              "      <td>104.059010</td>\n",
              "      <td>106.4575</td>\n",
              "      <td>108.855990</td>\n",
              "      <td>0.794456</td>\n",
              "      <td>103.967806</td>\n",
              "      <td>106.3275</td>\n",
              "      <td>108.687194</td>\n",
              "      <td>0.928551</td>\n",
              "      <td>103.991662</td>\n",
              "      <td>106.1845</td>\n",
              "      <td>108.377338</td>\n",
              "      <td>0.968685</td>\n",
              "      <td>14.0</td>\n",
              "      <td>Green</td>\n",
              "    </tr>\n",
              "  </tbody>\n",
              "</table>\n",
              "</div>"
            ],
            "text/plain": [
              "         date    open    high     low  ...         up5     pctB5  target1  target2\n",
              "0  2000-07-13  108.23  108.56  107.00  ...  107.711815  1.064375     12.0    Green\n",
              "1  2000-07-14  108.36  108.48  107.59  ...  107.852193  0.881715    -49.0      Red\n",
              "2  2000-07-16  107.52  108.28  107.49  ...  107.932399  0.772623     62.0    Green\n",
              "3  2000-07-17  108.15  108.83  107.81  ...  108.045156  0.784504     -9.0      Red\n",
              "4  2000-07-18  108.06  108.47  107.65  ...  108.377338  0.968685     14.0    Green\n",
              "\n",
              "[5 rows x 75 columns]"
            ]
          },
          "metadata": {
            "tags": []
          },
          "execution_count": 27
        }
      ]
    },
    {
      "cell_type": "code",
      "metadata": {
        "id": "CT6710uQzp4b",
        "colab_type": "code",
        "colab": {
          "base_uri": "https://localhost:8080/",
          "height": 255
        },
        "outputId": "6749f150-9e3e-4adb-ddaa-dd034858b754"
      },
      "source": [
        "print(\"jumlah data = {}\\n\".format(df.shape[0]))\n",
        "df.isnull().sum()"
      ],
      "execution_count": 28,
      "outputs": [
        {
          "output_type": "stream",
          "text": [
            "jumlah data = 5757\n",
            "\n"
          ],
          "name": "stdout"
        },
        {
          "output_type": "execute_result",
          "data": {
            "text/plain": [
              "date       0\n",
              "open       0\n",
              "high       0\n",
              "low        0\n",
              "close      0\n",
              "          ..\n",
              "mavg5      0\n",
              "up5        0\n",
              "pctB5      0\n",
              "target1    0\n",
              "target2    0\n",
              "Length: 75, dtype: int64"
            ]
          },
          "metadata": {
            "tags": []
          },
          "execution_count": 28
        }
      ]
    },
    {
      "cell_type": "code",
      "metadata": {
        "id": "L5ZvN9-yzuJi",
        "colab_type": "code",
        "colab": {
          "base_uri": "https://localhost:8080/",
          "height": 341
        },
        "outputId": "ab065447-43f9-43e5-87d4-a2d5d5f72e4a"
      },
      "source": [
        "data_usd_jpy = df.iloc[:, 2:3].values\n",
        "\n",
        "plt.figure(figsize=(15,5))\n",
        "plt.plot(data_usd_jpy)\n",
        "plt.title('USD JPY time series',\n",
        "          fontsize=20);"
      ],
      "execution_count": 29,
      "outputs": [
        {
          "output_type": "display_data",
          "data": {
            "image/png": "[encoded data removed]",
            "text/plain": [
              "<Figure size 1080x360 with 1 Axes>"
            ]
          },
          "metadata": {
            "tags": [],
            "needs_background": "light"
          }
        }
      ]
    },
    {
      "cell_type": "markdown",
      "metadata": {
        "id": "HLc-NHjRty-T",
        "colab_type": "text"
      },
      "source": [
        "#Pra-pemrosesan"
      ]
    },
    {
      "cell_type": "markdown",
      "metadata": {
        "id": "x8DO9jbMMCVk",
        "colab_type": "text"
      },
      "source": [
        "##Membagi dataset\n",
        "- 5000 data dilakukan pembagian dengan 80% untuk training dan 20% untuk validasi\n",
        "- 757 data digunakan untuk testing"
      ]
    },
    {
      "cell_type": "code",
      "metadata": {
        "id": "guQBWLYwJdDj",
        "colab_type": "code",
        "colab": {
          "base_uri": "https://localhost:8080/",
          "height": 68
        },
        "outputId": "cd16518d-e9a7-4041-f766-becc04a10c21"
      },
      "source": [
        "data_train_val = data_usd_jpy[:5000] #data train dan validasi\n",
        "data_test = data_usd_jpy[5000-60:] #data test dengan mengambil 60 data sebelumnya\n",
        "data_test_asli = data_usd_jpy[5000:] #data test asli\n",
        "\n",
        "dataTrain = data_train_val[:len(data_train_val)-int(len(data_train_val)*0.2),]\n",
        "dataVal = data_train_val[len(data_train_val)-int(len(data_train_val)*0.2)-60:,]\n",
        "dataTest = data_test\n",
        "\n",
        "print(dataTrain.shape)\n",
        "print(dataVal.shape)\n",
        "print(dataTest.shape)"
      ],
      "execution_count": 30,
      "outputs": [
        {
          "output_type": "stream",
          "text": [
            "(4000, 1)\n",
            "(1060, 1)\n",
            "(817, 1)\n"
          ],
          "name": "stdout"
        }
      ]
    },
    {
      "cell_type": "markdown",
      "metadata": {
        "id": "_F1N8v5Ct6Gb",
        "colab_type": "text"
      },
      "source": [
        "##Transform Data"
      ]
    },
    {
      "cell_type": "code",
      "metadata": {
        "id": "pFVTxIH0OQNz",
        "colab_type": "code",
        "colab": {
          "base_uri": "https://localhost:8080/",
          "height": 34
        },
        "outputId": "09d8fc92-bc68-4392-e441-7b9e5ec51aa9"
      },
      "source": [
        "from sklearn.preprocessing import MinMaxScaler\n",
        "\n",
        "sc = MinMaxScaler(feature_range = (0, 1))\n",
        "train_scaled = sc.fit_transform(dataTrain)\n",
        "val_scaled = sc.fit_transform(dataVal)\n",
        "print(train_scaled.shape, val_scaled.shape)"
      ],
      "execution_count": 31,
      "outputs": [
        {
          "output_type": "stream",
          "text": [
            "(4000, 1) (1060, 1)\n"
          ],
          "name": "stdout"
        }
      ]
    },
    {
      "cell_type": "markdown",
      "metadata": {
        "id": "QGLCQJ0auK9J",
        "colab_type": "text"
      },
      "source": [
        "##Pengamatan: menggunakan 60 data sebelumnya (interval) untuk menghitung nilai prediksi"
      ]
    },
    {
      "cell_type": "code",
      "metadata": {
        "id": "5QT4jDFbu9le",
        "colab_type": "code",
        "colab": {}
      },
      "source": [
        "def get_scaled_data(interval, data):\n",
        "    X, Y = [], []\n",
        "    for i in range(interval, len(data)):\n",
        "        X.append(data[i-interval:i, 0])\n",
        "        Y.append(data[i, 0])\n",
        "    X, Y = np.array(X), np.array(Y)\n",
        "    X = np.reshape(X, (X.shape[0], X.shape[1], 1))\n",
        "\n",
        "    return X, Y"
      ],
      "execution_count": 32,
      "outputs": []
    },
    {
      "cell_type": "code",
      "metadata": {
        "id": "wTy4pEqvOpvr",
        "colab_type": "code",
        "colab": {}
      },
      "source": [
        "X_train, y_train = get_scaled_data(60, train_scaled)\n",
        "X_val, y_val = get_scaled_data(60, val_scaled)"
      ],
      "execution_count": 33,
      "outputs": []
    },
    {
      "cell_type": "markdown",
      "metadata": {
        "id": "IlgnzgIBboHV",
        "colab_type": "text"
      },
      "source": [
        "#Model LSTM"
      ]
    },
    {
      "cell_type": "code",
      "metadata": {
        "id": "FdB4quf00W-I",
        "colab_type": "code",
        "colab": {}
      },
      "source": [
        "LSTM_model = tf.keras.models.Sequential([\n",
        "  tf.keras.layers.LSTM(units=100, return_sequences=True, input_shape=(X_train.shape[1], 1)),\n",
        "  tf.keras.layers.Dropout(0.2),\n",
        "  tf.keras.layers.LSTM(units=50),\n",
        "  tf.keras.layers.Dropout(0.2),\n",
        "  tf.keras.layers.Dense(units=1)\n",
        "])"
      ],
      "execution_count": 34,
      "outputs": []
    },
    {
      "cell_type": "code",
      "metadata": {
        "id": "pMr0PO6I0aYS",
        "colab_type": "code",
        "colab": {
          "base_uri": "https://localhost:8080/",
          "height": 1000
        },
        "outputId": "2fcdc33e-0077-4eab-e4a1-c9f94efceb29"
      },
      "source": [
        "LSTM_model.compile(loss= 'mean_squared_error',\n",
        "              optimizer=tf.keras.optimizers.Adam(learning_rate=0.01, beta_1=0.9, beta_2=0.999),\n",
        "              metrics=['accuracy'])\n",
        "\n",
        "mcp_save = tf.keras.callbacks.ModelCheckpoint(\"best_model.hdf5\", monitor='loss', mode='min', verbose=1)\n",
        "\n",
        "history = LSTM_model.fit(X_train, y_train, epochs=50, batch_size=64, validation_data=(X_val, y_val), \n",
        "                         verbose=1, callbacks=[mcp_save])"
      ],
      "execution_count": 35,
      "outputs": [
        {
          "output_type": "stream",
          "text": [
            "Epoch 1/50\n",
            "58/62 [===========================>..] - ETA: 0s - loss: 0.0287 - accuracy: 5.3879e-04\n",
            "Epoch 00001: saving model to best_model.hdf5\n",
            "62/62 [==============================] - 1s 21ms/step - loss: 0.0272 - accuracy: 5.0761e-04 - val_loss: 0.0015 - val_accuracy: 0.0010\n",
            "Epoch 2/50\n",
            "59/62 [===========================>..] - ETA: 0s - loss: 0.0025 - accuracy: 5.2966e-04\n",
            "Epoch 00002: saving model to best_model.hdf5\n",
            "62/62 [==============================] - 1s 10ms/step - loss: 0.0024 - accuracy: 5.0761e-04 - val_loss: 0.0021 - val_accuracy: 0.0010\n",
            "Epoch 3/50\n",
            "60/62 [============================>.] - ETA: 0s - loss: 0.0021 - accuracy: 5.2083e-04\n",
            "Epoch 00003: saving model to best_model.hdf5\n",
            "62/62 [==============================] - 1s 10ms/step - loss: 0.0021 - accuracy: 5.0761e-04 - val_loss: 0.0024 - val_accuracy: 0.0010\n",
            "Epoch 4/50\n",
            "59/62 [===========================>..] - ETA: 0s - loss: 0.0018 - accuracy: 5.2966e-04\n",
            "Epoch 00004: saving model to best_model.hdf5\n",
            "62/62 [==============================] - 1s 10ms/step - loss: 0.0017 - accuracy: 5.0761e-04 - val_loss: 0.0013 - val_accuracy: 0.0010\n",
            "Epoch 5/50\n",
            "62/62 [==============================] - ETA: 0s - loss: 0.0015 - accuracy: 5.0761e-04\n",
            "Epoch 00005: saving model to best_model.hdf5\n",
            "62/62 [==============================] - 1s 10ms/step - loss: 0.0015 - accuracy: 5.0761e-04 - val_loss: 0.0013 - val_accuracy: 0.0010\n",
            "Epoch 6/50\n",
            "60/62 [============================>.] - ETA: 0s - loss: 0.0014 - accuracy: 5.2083e-04\n",
            "Epoch 00006: saving model to best_model.hdf5\n",
            "62/62 [==============================] - 1s 10ms/step - loss: 0.0014 - accuracy: 5.0761e-04 - val_loss: 0.0011 - val_accuracy: 0.0010\n",
            "Epoch 7/50\n",
            "59/62 [===========================>..] - ETA: 0s - loss: 0.0014 - accuracy: 5.2966e-04\n",
            "Epoch 00007: saving model to best_model.hdf5\n",
            "62/62 [==============================] - 1s 10ms/step - loss: 0.0014 - accuracy: 5.0761e-04 - val_loss: 0.0018 - val_accuracy: 0.0010\n",
            "Epoch 8/50\n",
            "62/62 [==============================] - ETA: 0s - loss: 0.0013 - accuracy: 5.0761e-04\n",
            "Epoch 00008: saving model to best_model.hdf5\n",
            "62/62 [==============================] - 1s 10ms/step - loss: 0.0013 - accuracy: 5.0761e-04 - val_loss: 0.0010 - val_accuracy: 0.0010\n",
            "Epoch 9/50\n",
            "61/62 [============================>.] - ETA: 0s - loss: 0.0011 - accuracy: 5.1230e-04\n",
            "Epoch 00009: saving model to best_model.hdf5\n",
            "62/62 [==============================] - 1s 10ms/step - loss: 0.0011 - accuracy: 5.0761e-04 - val_loss: 8.9406e-04 - val_accuracy: 0.0010\n",
            "Epoch 10/50\n",
            "60/62 [============================>.] - ETA: 0s - loss: 0.0011 - accuracy: 5.2083e-04\n",
            "Epoch 00010: saving model to best_model.hdf5\n",
            "62/62 [==============================] - 1s 10ms/step - loss: 0.0011 - accuracy: 5.0761e-04 - val_loss: 0.0018 - val_accuracy: 0.0010\n",
            "Epoch 11/50\n",
            "60/62 [============================>.] - ETA: 0s - loss: 0.0011 - accuracy: 5.2083e-04\n",
            "Epoch 00011: saving model to best_model.hdf5\n",
            "62/62 [==============================] - 1s 10ms/step - loss: 0.0011 - accuracy: 5.0761e-04 - val_loss: 8.7435e-04 - val_accuracy: 0.0010\n",
            "Epoch 12/50\n",
            "61/62 [============================>.] - ETA: 0s - loss: 9.2968e-04 - accuracy: 5.1230e-04\n",
            "Epoch 00012: saving model to best_model.hdf5\n",
            "62/62 [==============================] - 1s 10ms/step - loss: 9.2706e-04 - accuracy: 5.0761e-04 - val_loss: 0.0014 - val_accuracy: 0.0010\n",
            "Epoch 13/50\n",
            "62/62 [==============================] - ETA: 0s - loss: 8.7752e-04 - accuracy: 5.0761e-04\n",
            "Epoch 00013: saving model to best_model.hdf5\n",
            "62/62 [==============================] - 1s 10ms/step - loss: 8.7752e-04 - accuracy: 5.0761e-04 - val_loss: 9.8210e-04 - val_accuracy: 0.0010\n",
            "Epoch 14/50\n",
            "59/62 [===========================>..] - ETA: 0s - loss: 8.8840e-04 - accuracy: 5.2966e-04\n",
            "Epoch 00014: saving model to best_model.hdf5\n",
            "62/62 [==============================] - 1s 10ms/step - loss: 8.8223e-04 - accuracy: 5.0761e-04 - val_loss: 8.0806e-04 - val_accuracy: 0.0010\n",
            "Epoch 15/50\n",
            "61/62 [============================>.] - ETA: 0s - loss: 8.8829e-04 - accuracy: 5.1230e-04\n",
            "Epoch 00015: saving model to best_model.hdf5\n",
            "62/62 [==============================] - 1s 10ms/step - loss: 8.8618e-04 - accuracy: 5.0761e-04 - val_loss: 7.5140e-04 - val_accuracy: 0.0010\n",
            "Epoch 16/50\n",
            "60/62 [============================>.] - ETA: 0s - loss: 7.6952e-04 - accuracy: 5.2083e-04\n",
            "Epoch 00016: saving model to best_model.hdf5\n",
            "62/62 [==============================] - 1s 10ms/step - loss: 7.7324e-04 - accuracy: 5.0761e-04 - val_loss: 8.6255e-04 - val_accuracy: 0.0010\n",
            "Epoch 17/50\n",
            "60/62 [============================>.] - ETA: 0s - loss: 7.3103e-04 - accuracy: 5.2083e-04\n",
            "Epoch 00017: saving model to best_model.hdf5\n",
            "62/62 [==============================] - 1s 10ms/step - loss: 7.3386e-04 - accuracy: 5.0761e-04 - val_loss: 7.5292e-04 - val_accuracy: 0.0010\n",
            "Epoch 18/50\n",
            "62/62 [==============================] - ETA: 0s - loss: 7.4065e-04 - accuracy: 5.0761e-04\n",
            "Epoch 00018: saving model to best_model.hdf5\n",
            "62/62 [==============================] - 1s 10ms/step - loss: 7.4065e-04 - accuracy: 5.0761e-04 - val_loss: 6.9207e-04 - val_accuracy: 0.0010\n",
            "Epoch 19/50\n",
            "61/62 [============================>.] - ETA: 0s - loss: 7.4166e-04 - accuracy: 5.1230e-04\n",
            "Epoch 00019: saving model to best_model.hdf5\n",
            "62/62 [==============================] - 1s 10ms/step - loss: 7.3963e-04 - accuracy: 5.0761e-04 - val_loss: 9.4928e-04 - val_accuracy: 0.0010\n",
            "Epoch 20/50\n",
            "58/62 [===========================>..] - ETA: 0s - loss: 7.0864e-04 - accuracy: 5.3879e-04\n",
            "Epoch 00020: saving model to best_model.hdf5\n",
            "62/62 [==============================] - 1s 10ms/step - loss: 7.0665e-04 - accuracy: 5.0761e-04 - val_loss: 7.2763e-04 - val_accuracy: 0.0010\n",
            "Epoch 21/50\n",
            "62/62 [==============================] - ETA: 0s - loss: 7.3000e-04 - accuracy: 5.0761e-04\n",
            "Epoch 00021: saving model to best_model.hdf5\n",
            "62/62 [==============================] - 1s 10ms/step - loss: 7.3000e-04 - accuracy: 5.0761e-04 - val_loss: 6.7240e-04 - val_accuracy: 0.0010\n",
            "Epoch 22/50\n",
            "58/62 [===========================>..] - ETA: 0s - loss: 6.6585e-04 - accuracy: 2.6940e-04\n",
            "Epoch 00022: saving model to best_model.hdf5\n",
            "62/62 [==============================] - 1s 10ms/step - loss: 6.7065e-04 - accuracy: 5.0761e-04 - val_loss: 6.7032e-04 - val_accuracy: 0.0010\n",
            "Epoch 23/50\n",
            "60/62 [============================>.] - ETA: 0s - loss: 7.3010e-04 - accuracy: 5.2083e-04\n",
            "Epoch 00023: saving model to best_model.hdf5\n",
            "62/62 [==============================] - 1s 10ms/step - loss: 7.3496e-04 - accuracy: 5.0761e-04 - val_loss: 7.6586e-04 - val_accuracy: 0.0010\n",
            "Epoch 24/50\n",
            "60/62 [============================>.] - ETA: 0s - loss: 7.3415e-04 - accuracy: 5.2083e-04\n",
            "Epoch 00024: saving model to best_model.hdf5\n",
            "62/62 [==============================] - 1s 10ms/step - loss: 7.3933e-04 - accuracy: 5.0761e-04 - val_loss: 7.7241e-04 - val_accuracy: 0.0010\n",
            "Epoch 25/50\n",
            "60/62 [============================>.] - ETA: 0s - loss: 6.9796e-04 - accuracy: 5.2083e-04\n",
            "Epoch 00025: saving model to best_model.hdf5\n",
            "62/62 [==============================] - 1s 10ms/step - loss: 6.9815e-04 - accuracy: 5.0761e-04 - val_loss: 8.6906e-04 - val_accuracy: 0.0010\n",
            "Epoch 26/50\n",
            "57/62 [==========================>...] - ETA: 0s - loss: 7.3893e-04 - accuracy: 5.4825e-04\n",
            "Epoch 00026: saving model to best_model.hdf5\n",
            "62/62 [==============================] - 1s 10ms/step - loss: 7.3769e-04 - accuracy: 5.0761e-04 - val_loss: 7.3130e-04 - val_accuracy: 0.0010\n",
            "Epoch 27/50\n",
            "59/62 [===========================>..] - ETA: 0s - loss: 6.1850e-04 - accuracy: 5.2966e-04\n",
            "Epoch 00027: saving model to best_model.hdf5\n",
            "62/62 [==============================] - 1s 10ms/step - loss: 6.1813e-04 - accuracy: 5.0761e-04 - val_loss: 5.8602e-04 - val_accuracy: 0.0010\n",
            "Epoch 28/50\n",
            "62/62 [==============================] - ETA: 0s - loss: 6.7184e-04 - accuracy: 5.0761e-04\n",
            "Epoch 00028: saving model to best_model.hdf5\n",
            "62/62 [==============================] - 1s 10ms/step - loss: 6.7184e-04 - accuracy: 5.0761e-04 - val_loss: 7.1061e-04 - val_accuracy: 0.0010\n",
            "Epoch 29/50\n",
            "56/62 [==========================>...] - ETA: 0s - loss: 6.6745e-04 - accuracy: 5.5804e-04\n",
            "Epoch 00029: saving model to best_model.hdf5\n",
            "62/62 [==============================] - 1s 10ms/step - loss: 6.7208e-04 - accuracy: 5.0761e-04 - val_loss: 6.1483e-04 - val_accuracy: 0.0010\n",
            "Epoch 30/50\n",
            "59/62 [===========================>..] - ETA: 0s - loss: 6.6515e-04 - accuracy: 5.2966e-04\n",
            "Epoch 00030: saving model to best_model.hdf5\n",
            "62/62 [==============================] - 1s 10ms/step - loss: 6.6702e-04 - accuracy: 5.0761e-04 - val_loss: 7.5092e-04 - val_accuracy: 0.0010\n",
            "Epoch 31/50\n",
            "60/62 [============================>.] - ETA: 0s - loss: 6.8126e-04 - accuracy: 5.2083e-04\n",
            "Epoch 00031: saving model to best_model.hdf5\n",
            "62/62 [==============================] - 1s 10ms/step - loss: 6.8147e-04 - accuracy: 5.0761e-04 - val_loss: 6.4268e-04 - val_accuracy: 0.0010\n",
            "Epoch 32/50\n",
            "59/62 [===========================>..] - ETA: 0s - loss: 7.5843e-04 - accuracy: 5.2966e-04\n",
            "Epoch 00033: saving model to best_model.hdf5\n",
            "62/62 [==============================] - 1s 10ms/step - loss: 7.6476e-04 - accuracy: 5.0761e-04 - val_loss: 6.1318e-04 - val_accuracy: 0.0010\n",
            "Epoch 34/50\n",
            "60/62 [============================>.] - ETA: 0s - loss: 6.8666e-04 - accuracy: 5.2083e-04\n",
            "Epoch 00034: saving model to best_model.hdf5\n",
            "62/62 [==============================] - 1s 10ms/step - loss: 6.8360e-04 - accuracy: 5.0761e-04 - val_loss: 5.3448e-04 - val_accuracy: 0.0010\n",
            "Epoch 35/50\n",
            "62/62 [==============================] - ETA: 0s - loss: 6.3292e-04 - accuracy: 5.0761e-04\n",
            "Epoch 00035: saving model to best_model.hdf5\n",
            "62/62 [==============================] - 1s 10ms/step - loss: 6.3292e-04 - accuracy: 5.0761e-04 - val_loss: 5.6712e-04 - val_accuracy: 0.0010\n",
            "Epoch 36/50\n",
            "62/62 [==============================] - ETA: 0s - loss: 6.9446e-04 - accuracy: 5.0761e-04\n",
            "Epoch 00036: saving model to best_model.hdf5\n",
            "62/62 [==============================] - 1s 10ms/step - loss: 6.9446e-04 - accuracy: 5.0761e-04 - val_loss: 5.4587e-04 - val_accuracy: 0.0010\n",
            "Epoch 37/50\n",
            "61/62 [============================>.] - ETA: 0s - loss: 6.1363e-04 - accuracy: 5.1230e-04\n",
            "Epoch 00037: saving model to best_model.hdf5\n",
            "62/62 [==============================] - 1s 10ms/step - loss: 6.1596e-04 - accuracy: 5.0761e-04 - val_loss: 5.8946e-04 - val_accuracy: 0.0010\n",
            "Epoch 38/50\n",
            "62/62 [==============================] - ETA: 0s - loss: 6.4638e-04 - accuracy: 5.0761e-04\n",
            "Epoch 00038: saving model to best_model.hdf5\n",
            "62/62 [==============================] - 1s 10ms/step - loss: 6.4638e-04 - accuracy: 5.0761e-04 - val_loss: 7.0183e-04 - val_accuracy: 0.0010\n",
            "Epoch 39/50\n",
            "57/62 [==========================>...] - ETA: 0s - loss: 6.2167e-04 - accuracy: 5.4825e-04\n",
            "Epoch 00039: saving model to best_model.hdf5\n",
            "62/62 [==============================] - 1s 10ms/step - loss: 6.1629e-04 - accuracy: 5.0761e-04 - val_loss: 5.4836e-04 - val_accuracy: 0.0010\n",
            "Epoch 40/50\n",
            "60/62 [============================>.] - ETA: 0s - loss: 6.3206e-04 - accuracy: 5.2083e-04\n",
            "Epoch 00040: saving model to best_model.hdf5\n",
            "62/62 [==============================] - 1s 10ms/step - loss: 6.3079e-04 - accuracy: 5.0761e-04 - val_loss: 5.2644e-04 - val_accuracy: 0.0010\n",
            "Epoch 41/50\n",
            "62/62 [==============================] - ETA: 0s - loss: 6.4431e-04 - accuracy: 5.0761e-04\n",
            "Epoch 00041: saving model to best_model.hdf5\n",
            "62/62 [==============================] - 1s 10ms/step - loss: 6.4431e-04 - accuracy: 5.0761e-04 - val_loss: 5.7840e-04 - val_accuracy: 0.0010\n",
            "Epoch 42/50\n",
            "60/62 [============================>.] - ETA: 0s - loss: 6.7395e-04 - accuracy: 5.2083e-04\n",
            "Epoch 00042: saving model to best_model.hdf5\n",
            "62/62 [==============================] - 1s 10ms/step - loss: 6.6990e-04 - accuracy: 5.0761e-04 - val_loss: 4.5004e-04 - val_accuracy: 0.0010\n",
            "Epoch 43/50\n",
            "61/62 [============================>.] - ETA: 0s - loss: 5.8714e-04 - accuracy: 5.1230e-04\n",
            "Epoch 00043: saving model to best_model.hdf5\n",
            "62/62 [==============================] - 1s 10ms/step - loss: 5.8518e-04 - accuracy: 5.0761e-04 - val_loss: 6.0571e-04 - val_accuracy: 0.0010\n",
            "Epoch 44/50\n",
            "60/62 [============================>.] - ETA: 0s - loss: 6.7521e-04 - accuracy: 5.2083e-04\n",
            "Epoch 00044: saving model to best_model.hdf5\n",
            "62/62 [==============================] - 1s 10ms/step - loss: 6.7645e-04 - accuracy: 5.0761e-04 - val_loss: 5.6002e-04 - val_accuracy: 0.0010\n",
            "Epoch 45/50\n",
            "59/62 [===========================>..] - ETA: 0s - loss: 7.0844e-04 - accuracy: 5.2966e-04\n",
            "Epoch 00045: saving model to best_model.hdf5\n",
            "62/62 [==============================] - 1s 10ms/step - loss: 7.0502e-04 - accuracy: 5.0761e-04 - val_loss: 6.0676e-04 - val_accuracy: 0.0010\n",
            "Epoch 46/50\n",
            "62/62 [==============================] - ETA: 0s - loss: 6.7908e-04 - accuracy: 5.0761e-04\n",
            "Epoch 00046: saving model to best_model.hdf5\n",
            "62/62 [==============================] - 1s 10ms/step - loss: 6.7908e-04 - accuracy: 5.0761e-04 - val_loss: 6.1608e-04 - val_accuracy: 0.0010\n",
            "Epoch 47/50\n",
            "56/62 [==========================>...] - ETA: 0s - loss: 6.2311e-04 - accuracy: 5.5804e-04\n",
            "Epoch 00047: saving model to best_model.hdf5\n",
            "62/62 [==============================] - 1s 10ms/step - loss: 6.1602e-04 - accuracy: 5.0761e-04 - val_loss: 5.4349e-04 - val_accuracy: 0.0010\n",
            "Epoch 48/50\n",
            "62/62 [==============================] - ETA: 0s - loss: 6.8350e-04 - accuracy: 5.0761e-04\n",
            "Epoch 00048: saving model to best_model.hdf5\n",
            "62/62 [==============================] - 1s 10ms/step - loss: 6.8350e-04 - accuracy: 5.0761e-04 - val_loss: 5.8791e-04 - val_accuracy: 0.0010\n",
            "Epoch 49/50\n",
            "57/62 [==========================>...] - ETA: 0s - loss: 6.3499e-04 - accuracy: 5.4825e-04\n",
            "Epoch 00049: saving model to best_model.hdf5\n",
            "62/62 [==============================] - 1s 10ms/step - loss: 6.3682e-04 - accuracy: 5.0761e-04 - val_loss: 4.4493e-04 - val_accuracy: 0.0010\n",
            "Epoch 50/50\n",
            "62/62 [==============================] - ETA: 0s - loss: 6.6520e-04 - accuracy: 5.0761e-04\n",
            "Epoch 00050: saving model to best_model.hdf5\n",
            "62/62 [==============================] - 1s 10ms/step - loss: 6.6520e-04 - accuracy: 5.0761e-04 - val_loss: 5.6524e-04 - val_accuracy: 0.0010\n"
          ],
          "name": "stdout"
        }
      ]
    },
    {
      "cell_type": "code",
      "metadata": {
        "id": "x9hjAZui0HxX",
        "colab_type": "code",
        "colab": {
          "base_uri": "https://localhost:8080/",
          "height": 573
        },
        "outputId": "d8ecba32-9c0f-44ba-e44c-898b0f9af690"
      },
      "source": [
        "plt.plot(history.history['accuracy'])\n",
        "plt.plot(history.history['val_accuracy'])\n",
        "plt.title('model accuracy')\n",
        "plt.ylabel('accuracy')\n",
        "plt.xlabel('epoch')\n",
        "plt.legend(['train', 'val'], loc='upper left')\n",
        "plt.show()\n",
        "\n",
        "plt.plot(history.history['loss'])\n",
        "plt.plot(history.history['val_loss'])\n",
        "plt.title('model loss')\n",
        "plt.ylabel('loss')\n",
        "plt.xlabel('epoch')\n",
        "plt.legend(['train', 'val'], loc='upper left')\n",
        "plt.show()"
      ],
      "execution_count": 36,
      "outputs": [
        {
          "output_type": "display_data",
          "data": {
            "image/png": "[encoded data removed]",
            "text/plain": [
              "<Figure size 432x288 with 1 Axes>"
            ]
          },
          "metadata": {
            "tags": [],
            "needs_background": "light"
          }
        },
        {
          "output_type": "display_data",
          "data": {
            "image/png": "[encoded data removed]",
            "text/plain": [
              "<Figure size 432x288 with 1 Axes>"
            ]
          },
          "metadata": {
            "tags": [],
            "needs_background": "light"
          }
        }
      ]
    },
    {
      "cell_type": "markdown",
      "metadata": {
        "id": "Cc0weLl3S37H",
        "colab_type": "text"
      },
      "source": [
        "# Prediksi"
      ]
    },
    {
      "cell_type": "code",
      "metadata": {
        "id": "iGBNk8FsdCBY",
        "colab_type": "code",
        "colab": {
          "base_uri": "https://localhost:8080/",
          "height": 34
        },
        "outputId": "9bf13086-5390-4d01-f648-a69c962c16d3"
      },
      "source": [
        "dataTest_sc = sc.transform(dataTest)\n",
        "print(dataTest_sc.shape)"
      ],
      "execution_count": 37,
      "outputs": [
        {
          "output_type": "stream",
          "text": [
            "(817, 1)\n"
          ],
          "name": "stdout"
        }
      ]
    },
    {
      "cell_type": "code",
      "metadata": {
        "id": "6Kcs4SyPS5X5",
        "colab_type": "code",
        "colab": {
          "base_uri": "https://localhost:8080/",
          "height": 34
        },
        "outputId": "dadfd341-4bd0-4384-ea1b-faa9174de871"
      },
      "source": [
        "X_test = []\n",
        "\n",
        "for i in range(60, len(dataTest_sc)):\n",
        "    X_test.append(dataTest_sc[i-60:i, 0])\n",
        "\n",
        "X_test = np.array(X_test)\n",
        "X_test = np.reshape(X_test, (X_test.shape[0], X_test.shape[1], 1))\n",
        "\n",
        "print(X_test.shape)"
      ],
      "execution_count": 38,
      "outputs": [
        {
          "output_type": "stream",
          "text": [
            "(757, 60, 1)\n"
          ],
          "name": "stdout"
        }
      ]
    },
    {
      "cell_type": "code",
      "metadata": {
        "id": "3C_U8XmUTN2P",
        "colab_type": "code",
        "colab": {}
      },
      "source": [
        "prediksi = LSTM_model.predict(X_test)\n",
        "prediksi = sc.inverse_transform(prediksi)"
      ],
      "execution_count": 39,
      "outputs": []
    },
    {
      "cell_type": "code",
      "metadata": {
        "id": "VH9-mppXUIcY",
        "colab_type": "code",
        "colab": {
          "base_uri": "https://localhost:8080/",
          "height": 295
        },
        "outputId": "d5a0540a-6a66-42f0-9a11-cf67f58e4d62"
      },
      "source": [
        "plt.plot(prediksi,\"r\",label=\"Nilai Prediksi\")\n",
        "plt.plot(data_test_asli,\"b\",label=\"Nilai Real\")\n",
        "plt.legend()\n",
        "plt.title(' Prediction')\n",
        "plt.xlabel('Time')\n",
        "plt.show()"
      ],
      "execution_count": 40,
      "outputs": [
        {
          "output_type": "display_data",
          "data": {
            "image/png": "[encoded data removed]",
            "text/plain": [
              "<Figure size 432x288 with 1 Axes>"
            ]
          },
          "metadata": {
            "tags": [],
            "needs_background": "light"
          }
        }
      ]
    },
    {
      "cell_type": "markdown",
      "metadata": {
        "id": "WNLjqgNnvcOI",
        "colab_type": "text"
      },
      "source": [
        "# MAE"
      ]
    },
    {
      "cell_type": "code",
      "metadata": {
        "id": "KyfPydtQnUma",
        "colab_type": "code",
        "colab": {
          "base_uri": "https://localhost:8080/",
          "height": 34
        },
        "outputId": "961af83a-ffbd-4cce-d412-7e7bbdb61094"
      },
      "source": [
        "from sklearn.metrics import mean_absolute_error\n",
        "mae = mean_absolute_error(data_test_asli, prediksi)\n",
        "print(mae)"
      ],
      "execution_count": 41,
      "outputs": [
        {
          "output_type": "stream",
          "text": [
            "0.5826031818263911\n"
          ],
          "name": "stdout"
        }
      ]
    },
    {
      "cell_type": "code",
      "metadata": {
        "id": "82rZsftp-BWu",
        "colab_type": "code",
        "colab": {
          "base_uri": "https://localhost:8080/",
          "height": 34
        },
        "outputId": "506c1934-da88-451f-f6d1-f742bab4abe3"
      },
      "source": [
        "maxData = max(data_usd_jpy)\n",
        "minData = min(data_usd_jpy)\n",
        "MAE = (maxData - minData) * 0.1\n",
        "print(maxData, minData, MAE)"
      ],
      "execution_count": 42,
      "outputs": [
        {
          "output_type": "stream",
          "text": [
            "[135.4] [75.93] [5.947]\n"
          ],
          "name": "stdout"
        }
      ]
    }
  ]
}